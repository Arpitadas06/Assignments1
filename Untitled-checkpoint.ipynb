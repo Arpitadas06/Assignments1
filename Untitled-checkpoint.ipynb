{
 "cells": [
  {
   "cell_type": "code",
   "execution_count": 1,
   "id": "7a476696-8bf3-475f-90c7-98d6217f21eb",
   "metadata": {},
   "outputs": [
    {
     "name": "stdin",
     "output_type": "stream",
     "text": [
      "Enter the number of terms in the Fibonacci series:  8\n"
     ]
    },
    {
     "name": "stdout",
     "output_type": "stream",
     "text": [
      "0 1 1 2 3 5 8 13 \n"
     ]
    }
   ],
   "source": [
    "def fibonacci(n):\n",
    "    a, b = 0, 1\n",
    "    print(a, end=\" \")\n",
    "    for _ in range(1, n):\n",
    "        a, b = b, a + b\n",
    "        print(a, end=\" \")\n",
    "    print()\n",
    "\n",
    "num_terms = int(input(\"Enter the number of terms in the Fibonacci series: \"))\n",
    "fibonacci(num_terms)"
   ]
  },
  {
   "cell_type": "code",
   "execution_count": null,
   "id": "1bd51ec1-b3e9-415e-9d41-7f1d31fb09ba",
   "metadata": {},
   "outputs": [],
   "source": []
  }
 ],
 "metadata": {
  "kernelspec": {
   "display_name": "Python 3 (ipykernel)",
   "language": "python",
   "name": "python3"
  },
  "language_info": {
   "codemirror_mode": {
    "name": "ipython",
    "version": 3
   },
   "file_extension": ".py",
   "mimetype": "text/x-python",
   "name": "python",
   "nbconvert_exporter": "python",
   "pygments_lexer": "ipython3",
   "version": "3.12.7"
  }
 },
 "nbformat": 4,
 "nbformat_minor": 5
}
