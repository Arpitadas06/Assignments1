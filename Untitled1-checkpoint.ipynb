{
 "cells": [
  {
   "cell_type": "code",
   "execution_count": 1,
   "id": "fc533e42-0665-40f3-8515-da34bfb7632a",
   "metadata": {},
   "outputs": [
    {
     "name": "stdin",
     "output_type": "stream",
     "text": [
      "Enter the principal amount (in INR):  2000\n",
      "Enter the rate of interest (in %):  9\n",
      "Enter the time period (in years):  2\n"
     ]
    },
    {
     "name": "stdout",
     "output_type": "stream",
     "text": [
      "\n",
      "Simple Interest: ₹360.00\n",
      "Compound Interest: ₹376.20\n"
     ]
    }
   ],
   "source": [
    "def calculate_interest(principal, rate, time):\n",
    "    \n",
    "    simple_interest = (principal * rate * time) / 100\n",
    "    compound_interest = principal * ((1 + rate / 100) ** time) - principal\n",
    "    return simple_interest, compound_interest\n",
    "\n",
    "principal = float(input(\"Enter the principal amount (in INR): \"))\n",
    "rate = float(input(\"Enter the rate of interest (in %): \"))\n",
    "time = float(input(\"Enter the time period (in years): \"))\n",
    "\n",
    "simple_interest, compound_interest = calculate_interest(principal, rate, time)\n",
    "\n",
    "print(f\"\\nSimple Interest: ₹{simple_interest:.2f}\")\n",
    "print(f\"Compound Interest: ₹{compound_interest:.2f}\")"
   ]
  },
  {
   "cell_type": "code",
   "execution_count": null,
   "id": "76ac84f0-bbdc-40dd-a9a4-e3419b6b8a2a",
   "metadata": {},
   "outputs": [],
   "source": []
  }
 ],
 "metadata": {
  "kernelspec": {
   "display_name": "Python 3 (ipykernel)",
   "language": "python",
   "name": "python3"
  },
  "language_info": {
   "codemirror_mode": {
    "name": "ipython",
    "version": 3
   },
   "file_extension": ".py",
   "mimetype": "text/x-python",
   "name": "python",
   "nbconvert_exporter": "python",
   "pygments_lexer": "ipython3",
   "version": "3.12.7"
  }
 },
 "nbformat": 4,
 "nbformat_minor": 5
}
