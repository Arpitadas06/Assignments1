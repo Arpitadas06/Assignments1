{
 "cells": [
  {
   "cell_type": "code",
   "execution_count": 11,
   "id": "dc8b81c6-24bd-4513-8474-e706a002b5e7",
   "metadata": {},
   "outputs": [
    {
     "name": "stdout",
     "output_type": "stream",
     "text": [
      "1111111\n",
      "222222\n",
      "33333\n",
      "4444\n",
      "555\n",
      "66\n",
      "7\n"
     ]
    }
   ],
   "source": [
    "for i in range(1,8):\n",
    "    print(str(i)*(8-i))"
   ]
  },
  {
   "cell_type": "code",
   "execution_count": null,
   "id": "61bb67f8-a814-4f31-9a4e-77989d653f4d",
   "metadata": {},
   "outputs": [],
   "source": []
  }
 ],
 "metadata": {
  "kernelspec": {
   "display_name": "Python 3 (ipykernel)",
   "language": "python",
   "name": "python3"
  },
  "language_info": {
   "codemirror_mode": {
    "name": "ipython",
    "version": 3
   },
   "file_extension": ".py",
   "mimetype": "text/x-python",
   "name": "python",
   "nbconvert_exporter": "python",
   "pygments_lexer": "ipython3",
   "version": "3.12.7"
  }
 },
 "nbformat": 4,
 "nbformat_minor": 5
}
